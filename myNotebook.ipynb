{
  "nbformat": 4,
  "nbformat_minor": 0,
  "metadata": {
    "colab": {
      "name": "myNotebook.ipynb",
      "version": "0.3.2",
      "views": {},
      "default_view": {},
      "provenance": [
        {
          "file_id": "1sGVGZN5rAaRV6ZKrOjYlxKErm1b63fQ-",
          "timestamp": 1533757573132
        }
      ],
      "collapsed_sections": []
    },
    "kernelspec": {
      "name": "python3",
      "display_name": "Python 3"
    }
  },
  "cells": [
    {
      "metadata": {
        "id": "BDB4tU7wqApi",
        "colab_type": "code",
        "colab": {
          "autoexec": {
            "startup": false,
            "wait_interval": 0
          },
          "base_uri": "https://localhost:8080/",
          "height": 85
        },
        "outputId": "031df14f-3da8-4da9-f825-41c347b7c83f",
        "executionInfo": {
          "status": "ok",
          "timestamp": 1533815468473,
          "user_tz": -180,
          "elapsed": 3040,
          "user": {
            "displayName": "L. Eren",
            "photoUrl": "//lh6.googleusercontent.com/-LsmvvLb8EZA/AAAAAAAAAAI/AAAAAAAAACM/iCRHTZLu5Ok/s50-c-k-no/photo.jpg",
            "userId": "109003071446952827742"
          }
        }
      },
      "cell_type": "code",
      "source": [
        "! git clone https://github.com/lim-eren/CDnet2014.git "
      ],
      "execution_count": 1,
      "outputs": [
        {
          "output_type": "stream",
          "text": [
            "Cloning into 'CDnet2014'...\n",
            "remote: Counting objects: 81, done.\u001b[K\n",
            "remote: Total 81 (delta 0), reused 0 (delta 0), pack-reused 81\u001b[K\n",
            "Unpacking objects: 100% (81/81), done.\n"
          ],
          "name": "stdout"
        }
      ]
    },
    {
      "metadata": {
        "id": "AxfSUxmLtGiu",
        "colab_type": "code",
        "colab": {
          "autoexec": {
            "startup": false,
            "wait_interval": 0
          },
          "base_uri": "https://localhost:8080/",
          "height": 238
        },
        "outputId": "217fa811-14dd-45fa-ae15-784a3a5b03b1",
        "executionInfo": {
          "status": "ok",
          "timestamp": 1533821550464,
          "user_tz": -180,
          "elapsed": 1722,
          "user": {
            "displayName": "L. Eren",
            "photoUrl": "//lh6.googleusercontent.com/-LsmvvLb8EZA/AAAAAAAAAAI/AAAAAAAAACM/iCRHTZLu5Ok/s50-c-k-no/photo.jpg",
            "userId": "109003071446952827742"
          }
        }
      },
      "cell_type": "code",
      "source": [
        "! ls */train/*"
      ],
      "execution_count": 4,
      "outputs": [
        {
          "output_type": "stream",
          "text": [
            "CDnet2014/train/x:\r\n",
            "in000685.jpg  in000853.jpg  in001057.jpg  in001217.jpg\tin001537.jpg\r\n",
            "in000765.jpg  in000873.jpg  in001077.jpg  in001364.jpg\tin001613.jpg\r\n",
            "in000789.jpg  in000896.jpg  in001104.jpg  in001416.jpg\tin001636.jpg\r\n",
            "in000809.jpg  in000925.jpg  in001125.jpg  in001477.jpg\tin001657.jpg\r\n",
            "in000832.jpg  in001009.jpg  in001189.jpg  in001517.jpg\tin001680.jpg\r\n",
            "\r\n",
            "CDnet2014/train/y:\r\n",
            "gt000685.png  gt000853.png  gt001057.png  gt001217.png\tgt001537.png\r\n",
            "gt000765.png  gt000873.png  gt001077.png  gt001364.png\tgt001613.png\r\n",
            "gt000789.png  gt000896.png  gt001104.png  gt001416.png\tgt001636.png\r\n",
            "gt000809.png  gt000925.png  gt001125.png  gt001477.png\tgt001657.png\r\n",
            "gt000832.png  gt001009.png  gt001189.png  gt001517.png\tgt001680.png\r\n"
          ],
          "name": "stdout"
        }
      ]
    },
    {
      "metadata": {
        "id": "8pqwKgWYqjcW",
        "colab_type": "code",
        "colab": {
          "autoexec": {
            "startup": false,
            "wait_interval": 0
          },
          "base_uri": "https://localhost:8080/",
          "height": 34
        },
        "outputId": "a52303b9-e07d-483f-a4a3-985cf3e1f90e",
        "executionInfo": {
          "status": "ok",
          "timestamp": 1533821646104,
          "user_tz": -180,
          "elapsed": 3087,
          "user": {
            "displayName": "L. Eren",
            "photoUrl": "//lh6.googleusercontent.com/-LsmvvLb8EZA/AAAAAAAAAAI/AAAAAAAAACM/iCRHTZLu5Ok/s50-c-k-no/photo.jpg",
            "userId": "109003071446952827742"
          }
        }
      },
      "cell_type": "code",
      "source": [
        "# load data func\n",
        "\n",
        "from __future__ import print_function\n",
        "import glob, os, numpy as np\n",
        "from keras.preprocessing import image as kImage\n",
        "\n",
        "def getData(dataset_dir):\n",
        "    X_list= sorted(glob.glob(os.path.join(dataset_dir, 'x','*.jpg')))\n",
        "    Y_list = sorted(glob.glob(os.path.join(dataset_dir, 'y' ,'*.png')))\n",
        "    \n",
        "    X= []\n",
        "    Y= []\n",
        "    for i in range(len(X_list)):\n",
        "        # Load input image\n",
        "        x = kImage.load_img(X_list[i])\n",
        "        x = kImage.img_to_array(x)\n",
        "        X.append(x)\n",
        "        \n",
        "        # Load ground-truth label and encode to value 0 and 1\n",
        "        x = kImage.load_img(Y_list[i], grayscale = True)\n",
        "        x = kImage.img_to_array(x)\n",
        "        x /= 255.0\n",
        "        x = np.floor(x)\n",
        "        Y.append(x)\n",
        "        \n",
        "    X = np.asarray(X)\n",
        "    Y = np.asarray(Y)\n",
        "    \n",
        "    # Shuffle the training data\n",
        "    idx = list(range(X.shape[0]))\n",
        "    np.random.shuffle(idx)\n",
        "    X = X[idx]\n",
        "    Y = Y[idx]\n",
        "    \n",
        "    return X, Y"
      ],
      "execution_count": 9,
      "outputs": [
        {
          "output_type": "stream",
          "text": [
            "Using TensorFlow backend.\n"
          ],
          "name": "stderr"
        }
      ]
    },
    {
      "metadata": {
        "id": "ro3t43jM4Cu4",
        "colab_type": "code",
        "colab": {
          "autoexec": {
            "startup": false,
            "wait_interval": 0
          }
        }
      },
      "cell_type": "code",
      "source": [
        "# Install the PyDrive wrapper & import libraries.\n",
        "# This only needs to be done once per notebook.\n",
        "!pip install -U -q PyDrive\n",
        "\n",
        "from pydrive.auth import GoogleAuth\n",
        "from pydrive.drive import GoogleDrive\n",
        "from google.colab import auth\n",
        "from oauth2client.client import GoogleCredentials\n",
        "\n",
        "# Authenticate and create the PyDrive client.\n",
        "# This only needs to be done once per notebook.\n",
        "auth.authenticate_user()\n",
        "gauth = GoogleAuth()\n",
        "gauth.credentials = GoogleCredentials.get_application_default()\n",
        "drive = GoogleDrive(gauth)"
      ],
      "execution_count": 0,
      "outputs": []
    },
    {
      "metadata": {
        "id": "eKOLbVGQ4EC4",
        "colab_type": "code",
        "colab": {
          "autoexec": {
            "startup": false,
            "wait_interval": 0
          }
        }
      },
      "cell_type": "code",
      "source": [
        "# replace YOUR_FILE_ID with your file's id\n",
        "download = drive.CreateFile({'id': 'YOUR_FILE_ID'})\n",
        "download.GetContentFile('CDnet2014.zip')\n",
        "\n",
        "# unzip your file\n",
        "! unzip CDnet2014.zip"
      ],
      "execution_count": 0,
      "outputs": []
    },
    {
      "metadata": {
        "id": "3tH0NrvK-qgE",
        "colab_type": "code",
        "colab": {
          "autoexec": {
            "startup": false,
            "wait_interval": 0
          },
          "base_uri": "https://localhost:8080/",
          "height": 34
        },
        "outputId": "374bae74-c1bc-4aeb-82a7-49c20dbd17f3",
        "executionInfo": {
          "status": "ok",
          "timestamp": 1533806400976,
          "user_tz": -180,
          "elapsed": 1744,
          "user": {
            "displayName": "L. Eren",
            "photoUrl": "//lh6.googleusercontent.com/-LsmvvLb8EZA/AAAAAAAAAAI/AAAAAAAAACM/iCRHTZLu5Ok/s50-c-k-no/photo.jpg",
            "userId": "109003071446952827742"
          }
        }
      },
      "cell_type": "code",
      "source": [
        "! ls"
      ],
      "execution_count": 15,
      "outputs": [
        {
          "output_type": "stream",
          "text": [
            "CDnet2014  CDnet2014.zip  datalab  __MACOSX\r\n"
          ],
          "name": "stdout"
        }
      ]
    },
    {
      "metadata": {
        "id": "96Mpf80-hCMK",
        "colab_type": "code",
        "colab": {
          "autoexec": {
            "startup": false,
            "wait_interval": 0
          }
        }
      },
      "cell_type": "code",
      "source": [
        "import keras\n",
        "from keras.models import Model\n",
        "from keras.layers import Deconv2D, Input\n",
        "import keras.backend as K\n",
        "import tensorflow as tf\n",
        "from keras import regularizers\n",
        "\n",
        "def initModel():\n",
        "    ### Encoder\n",
        "    net_input = Input(shape=(240,320,3))\n",
        "                \n",
        "    vgg16 = keras.applications.vgg16.VGG16(include_top=False, weights='imagenet', input_tensor=net_input)\n",
        "    for layer in vgg16.layers[:17]:\n",
        "      layer.trainable = False\n",
        "    \n",
        "    x = vgg16.layers[-2].output # 2nd layer from the last, block5_conv3\n",
        "    \n",
        "    ### Decoder\n",
        "    x = Deconv2D(256, (3,3), strides=(2,2), activation='relu', padding='same')(x)\n",
        "    x = Deconv2D(128, (3,3), strides=(2,2), activation='relu', padding='same')(x)\n",
        "    x = Deconv2D(64, (3,3), strides=(2,2), activation='relu', padding='same')(x)\n",
        "    x = Deconv2D(32, (3,3), strides=(2,2), activation='relu', padding='same')(x)\n",
        "    x = Deconv2D(1, (1,1), activation='sigmoid', padding='same')(x)\n",
        "    \n",
        "    model = Model(inputs=vgg16.input, outputs=x)\n",
        "    model.compile(loss=keras.losses.binary_crossentropy, optimizer=keras.optimizers.RMSprop(lr=5e-4), metrics=['accuracy'])\n",
        "    return model"
      ],
      "execution_count": 0,
      "outputs": []
    },
    {
      "metadata": {
        "id": "r9NBad8bhPUa",
        "colab_type": "code",
        "colab": {
          "autoexec": {
            "startup": false,
            "wait_interval": 0
          },
          "base_uri": "https://localhost:8080/",
          "height": 748
        },
        "outputId": "f4277c8b-0b62-446a-d379-e516646409f2",
        "executionInfo": {
          "status": "ok",
          "timestamp": 1533815586233,
          "user_tz": -180,
          "elapsed": 33667,
          "user": {
            "displayName": "L. Eren",
            "photoUrl": "//lh6.googleusercontent.com/-LsmvvLb8EZA/AAAAAAAAAAI/AAAAAAAAACM/iCRHTZLu5Ok/s50-c-k-no/photo.jpg",
            "userId": "109003071446952827742"
          }
        }
      },
      "cell_type": "code",
      "source": [
        "# load data\n",
        "dataset_path = os.path.join('CDnet2014', 'train')\n",
        "X, Y = getData(dataset_path)\n",
        "\n",
        "# init the model\n",
        "model = initModel()\n",
        "\n",
        "early = keras.callbacks.EarlyStopping(monitor='val_loss', min_delta=1e-4, patience=10)\n",
        "reduce = keras.callbacks.ReduceLROnPlateau(monitor='val_loss', factor=0.1, patience=5)\n",
        "\n",
        "model.fit(X, Y, batch_size=1, epochs=100, verbose=2, validation_split=0.2, callbacks=[reduce, early], shuffle=True)\n",
        "model.save('my_model.h5')"
      ],
      "execution_count": 5,
      "outputs": [
        {
          "output_type": "stream",
          "text": [
            "Train on 20 samples, validate on 5 samples\n",
            "Epoch 1/100\n",
            " - 3s - loss: 0.2404 - acc: 0.8853 - val_loss: 0.1378 - val_acc: 0.9362\n",
            "Epoch 2/100\n",
            " - 1s - loss: 0.0969 - acc: 0.9616 - val_loss: 0.0622 - val_acc: 0.9748\n",
            "Epoch 3/100\n",
            " - 1s - loss: 0.0648 - acc: 0.9731 - val_loss: 0.0678 - val_acc: 0.9684\n",
            "Epoch 4/100\n",
            " - 1s - loss: 0.0506 - acc: 0.9775 - val_loss: 0.0519 - val_acc: 0.9784\n",
            "Epoch 5/100\n",
            " - 1s - loss: 0.0509 - acc: 0.9786 - val_loss: 0.0693 - val_acc: 0.9707\n",
            "Epoch 6/100\n",
            " - 1s - loss: 0.0398 - acc: 0.9824 - val_loss: 0.0565 - val_acc: 0.9788\n",
            "Epoch 7/100\n",
            " - 1s - loss: 0.0454 - acc: 0.9808 - val_loss: 0.0456 - val_acc: 0.9827\n",
            "Epoch 8/100\n",
            " - 1s - loss: 0.0325 - acc: 0.9863 - val_loss: 0.0559 - val_acc: 0.9804\n",
            "Epoch 9/100\n",
            " - 1s - loss: 0.0324 - acc: 0.9871 - val_loss: 0.0636 - val_acc: 0.9793\n",
            "Epoch 10/100\n",
            " - 1s - loss: 0.0288 - acc: 0.9877 - val_loss: 0.0671 - val_acc: 0.9783\n",
            "Epoch 11/100\n",
            " - 1s - loss: 0.0267 - acc: 0.9887 - val_loss: 0.0454 - val_acc: 0.9826\n",
            "Epoch 12/100\n",
            " - 1s - loss: 0.0287 - acc: 0.9889 - val_loss: 0.0523 - val_acc: 0.9837\n",
            "Epoch 13/100\n",
            " - 1s - loss: 0.0203 - acc: 0.9913 - val_loss: 0.0507 - val_acc: 0.9841\n",
            "Epoch 14/100\n",
            " - 1s - loss: 0.0201 - acc: 0.9915 - val_loss: 0.0666 - val_acc: 0.9809\n",
            "Epoch 15/100\n",
            " - 1s - loss: 0.0220 - acc: 0.9909 - val_loss: 0.0470 - val_acc: 0.9835\n",
            "Epoch 16/100\n",
            " - 1s - loss: 0.0149 - acc: 0.9938 - val_loss: 0.0517 - val_acc: 0.9831\n",
            "Epoch 17/100\n",
            " - 1s - loss: 0.0132 - acc: 0.9946 - val_loss: 0.0510 - val_acc: 0.9838\n",
            "Epoch 18/100\n",
            " - 1s - loss: 0.0105 - acc: 0.9957 - val_loss: 0.0533 - val_acc: 0.9845\n",
            "Epoch 19/100\n",
            " - 1s - loss: 0.0091 - acc: 0.9964 - val_loss: 0.0590 - val_acc: 0.9844\n",
            "Epoch 20/100\n",
            " - 1s - loss: 0.0081 - acc: 0.9968 - val_loss: 0.0637 - val_acc: 0.9844\n",
            "Epoch 21/100\n",
            " - 1s - loss: 0.0072 - acc: 0.9972 - val_loss: 0.0660 - val_acc: 0.9848\n"
          ],
          "name": "stdout"
        }
      ]
    },
    {
      "metadata": {
        "id": "ON9CBtIcxiKK",
        "colab_type": "code",
        "colab": {
          "autoexec": {
            "startup": false,
            "wait_interval": 0
          },
          "base_uri": "https://localhost:8080/",
          "height": 51
        },
        "outputId": "b66a3b26-a5a1-4870-b53f-2f0382761d4e",
        "executionInfo": {
          "status": "ok",
          "timestamp": 1533819037445,
          "user_tz": -180,
          "elapsed": 2205,
          "user": {
            "displayName": "L. Eren",
            "photoUrl": "//lh6.googleusercontent.com/-LsmvvLb8EZA/AAAAAAAAAAI/AAAAAAAAACM/iCRHTZLu5Ok/s50-c-k-no/photo.jpg",
            "userId": "109003071446952827742"
          }
        }
      },
      "cell_type": "code",
      "source": [
        "from keras import backend as K\n",
        "import tensorflow as tf\n",
        "\n",
        "dataset_path = os.path.join('CDnet2014', 'test')\n",
        "X, Y = getData(dataset_path)\n",
        "\n",
        "pred = model.predict(X, verbose=1, batch_size=1)\n",
        "print(tf.Session().run(K.mean(K.equal(Y, K.round(pred)))))"
      ],
      "execution_count": 75,
      "outputs": [
        {
          "output_type": "stream",
          "text": [
            "10/10 [==============================] - 1s 56ms/step\n",
            "0.9896263\n"
          ],
          "name": "stdout"
        }
      ]
    },
    {
      "metadata": {
        "id": "xp8qmWJD69e7",
        "colab_type": "code",
        "colab": {
          "autoexec": {
            "startup": false,
            "wait_interval": 0
          }
        }
      },
      "cell_type": "code",
      "source": [
        "import matplotlib.pyplot as plt\n",
        "plt.rcParams['figure.figsize'] = (12.0, 9.0)\n",
        "\n",
        "idx = 1 # image index in a range of [0,9]\n",
        "\n",
        "img = np.empty(3, dtype=object)\n",
        "img[0] = X[idx]\n",
        "img[1] = Y[idx].reshape(Y[idx].shape[0],Y[idx].shape[1])\n",
        "img[2] = pred[idx].reshape(pred[idx].shape[0],pred[idx].shape[1])\n",
        "title = ['input', 'ground-truth', 'result']\n",
        "for i in range(3):\n",
        "  plt.subplot(1, 3, i+1)\n",
        "  if i==0:\n",
        "    plt.imshow(img[i].astype('uint8'))\n",
        "  else:\n",
        "    plt.imshow(img[i], cmap='gray')\n",
        "  \n",
        "  plt.axis('off')\n",
        "  plt.title(title[i])\n",
        "plt.show()"
      ],
      "execution_count": 0,
      "outputs": []
    }
  ]
}